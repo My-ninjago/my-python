{
  "nbformat": 4,
  "nbformat_minor": 0,
  "metadata": {
    "colab": {
      "provenance": [],
      "name": "Paper-Siccessor-Stone.ipynb",
      "authorship_tag": "ABX9TyN/wtvYAalauMg1ea8tqaZq",
      "include_colab_link": true
    },
    "kernelspec": {
      "name": "python3",
      "display_name": "Python 3"
    },
    "language_info": {
      "name": "python"
    }
  },
  "cells": [
    {
      "cell_type": "markdown",
      "metadata": {
        "id": "view-in-github",
        "colab_type": "text"
      },
      "source": [
        "<a href=\"https://colab.research.google.com/github/My-ninjago/my-python/blob/main/Paper_Siccessor_Stone.ipynb\" target=\"_parent\"><img src=\"https://colab.research.google.com/assets/colab-badge.svg\" alt=\"Open In Colab\"/></a>"
      ]
    },
    {
      "cell_type": "code",
      "execution_count": null,
      "metadata": {
        "id": "2o1zWmTNxsPW"
      },
      "outputs": [],
      "source": [
        "#Leson 3 Exercise: \" Paper Siccessor Stone\"\n",
        "import random\n",
        "\n",
        "# 1= paper; 2=siccessor; 3=stone\n",
        "playerwin=0\n",
        "pcwin=0\n",
        "n= int(input(\"Enter the number of game you want to play:  \")) #set number of game\n",
        "for i in range(n): # for / while loop\n",
        "  playerchoice = int(input(\" 1= paper; 2=siccessor; 3=stone\")) # player choose by input 1-3\n",
        "  pcchoice= random.randint(1,4) # PC choose by random 1-3\n",
        "  if playerchoice > pcchoice:\n",
        "    playerwin=playerwin+1\n",
        "    print(\"you win\")\n",
        "  else:\n",
        "    pcwin=pcwin+1\n",
        "    print(\"you loose\") # win/ lose/ draw\n",
        "# print statistics\n",
        "print(\"Player Win:\" + str(playerwin), \"PC Win\"+ str(pcwin))\n",
        "\n",
        "\n"
      ]
    },
    {
      "cell_type": "code",
      "source": [
        "##Leson 3 Exercise: \" Paper Siccessor Stone\" - Def function version\n",
        "import random\n",
        "def play():\n",
        "  user = input(\"r for rock, p for paper, s for scissors\")\n",
        "  computer = random.choice(['r', 'p', 's'])\n",
        "  print(computer)\n",
        "  if user == computer:\n",
        "    return \"Draw\"\n",
        "  #r>s, s>p, p>r\n",
        "\n",
        "  if is_win(user, computer):\n",
        "    return \"You Win!\"\n",
        "  if is_win(computer, user):\n",
        "    return \"You Lost!\"\n",
        "\n",
        "def is_win(player, opponent):\n",
        "  #return true if player wins\n",
        "  if (player == \"r\" and opponent ==\"s\") or (player ==\"s\" and opponent==\"p\") or (player ==\"p\" and opponent==\"r\"):\n",
        "    return True\n",
        "play()"
      ],
      "metadata": {
        "id": "D_97K1ePxwTJ"
      },
      "execution_count": null,
      "outputs": []
    }
  ]
}