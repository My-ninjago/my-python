{
  "nbformat": 4,
  "nbformat_minor": 0,
  "metadata": {
    "colab": {
      "provenance": [],
      "authorship_tag": "ABX9TyOodw06DmnXOqVXe5keOgDX",
      "include_colab_link": true
    },
    "kernelspec": {
      "name": "python3",
      "display_name": "Python 3"
    },
    "language_info": {
      "name": "python"
    }
  },
  "cells": [
    {
      "cell_type": "markdown",
      "metadata": {
        "id": "view-in-github",
        "colab_type": "text"
      },
      "source": [
        "<a href=\"https://colab.research.google.com/github/My-ninjago/my-python/blob/main/random_password_generator.ipynb\" target=\"_parent\"><img src=\"https://colab.research.google.com/assets/colab-badge.svg\" alt=\"Open In Colab\"/></a>"
      ]
    },
    {
      "cell_type": "code",
      "execution_count": null,
      "metadata": {
        "id": "xuYbOAQiybDb"
      },
      "outputs": [],
      "source": []
    },
    {
      "cell_type": "code",
      "source": [
        "#Random - Password Generator\n",
        "import random\n",
        "print('Welcome to password generator')\n",
        "\n",
        "chars=\"abcdefghijklmnopqrstuywxyzQWERTYUUIOPLKJHGFDSAZXCVBNM!@#$%^&*()0123456789\"\n",
        "num=int(input('input a amount of passwords to generate:  '))\n",
        "length = int(input(\"length of your password\"))\n",
        "\n",
        "print(\"\\nhere are your passwords: \")\n",
        "\n",
        "for pwd in range(num):\n",
        "  passwords = \"\"\n",
        "  for c in range(length):\n",
        "    passwords = passwords+random.choice(chars) #passwords += random.choice(chars) \n",
        "  print(passwords)\n",
        "\n"
      ],
      "metadata": {
        "colab": {
          "base_uri": "https://localhost:8080/"
        },
        "id": "HNJj_yYgHzlQ",
        "outputId": "c890b7e8-0036-49e1-d718-45f11368078d"
      },
      "execution_count": null,
      "outputs": [
        {
          "output_type": "stream",
          "name": "stdout",
          "text": [
            "Welcome to password generator\n",
            "input a amount of passwords to generate:  5\n",
            "length of your password8\n",
            "\n",
            "here are your passwords: \n",
            "Z(F5BDAC\n",
            "HuGoUXHg\n",
            ")fobMoVD\n",
            "&@c82Eo8\n",
            "sn)GK(Bu\n"
          ]
        }
      ]
    }
  ]
}